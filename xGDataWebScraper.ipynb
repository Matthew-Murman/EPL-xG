{
 "cells": [
  {
   "cell_type": "code",
   "execution_count": 1,
   "metadata": {},
   "outputs": [],
   "source": [
    "import pandas as pd\n",
    "import numpy as np\n",
    "import requests\n",
    "from bs4 import BeautifulSoup\n",
    "from selenium import webdriver\n",
    "import time\n",
    "import json\n",
    "from pandas.io.json import json_normalize"
   ]
  },
  {
   "cell_type": "code",
   "execution_count": 2,
   "metadata": {},
   "outputs": [],
   "source": [
    "def get_team_soup(team):\n",
    "    # grabs the url for a particular team and returns a Beautifulsoup object containing player data for a that team\n",
    "    xg_url = 'https://understat.com/team/' + team\n",
    "    \n",
    "    options = webdriver.ChromeOptions()\n",
    "    options.add_argument('headless')\n",
    "    driver = webdriver.Chrome(options=options)\n",
    "    driver.get(xg_url)\n",
    "    team_soup = BeautifulSoup(driver.page_source, 'lxml')\n",
    "    \n",
    "    return team_soup"
   ]
  },
  {
   "cell_type": "code",
   "execution_count": 3,
   "metadata": {},
   "outputs": [],
   "source": [
    "def get_EPL_soup():\n",
    "    # grabs the url for the EPL and returns a Beautifulsoup object for each team(not player data) in the league\n",
    "    xg_url = 'https://understat.com/league/EPL'\n",
    "    \n",
    "    options = webdriver.ChromeOptions()\n",
    "    options.add_argument('headless')\n",
    "    driver = webdriver.Chrome(options=options)\n",
    "    driver.get(xg_url)\n",
    "    EPL_soup = BeautifulSoup(driver.page_source, 'lxml')\n",
    "    \n",
    "    return EPL_soup"
   ]
  },
  {
   "cell_type": "code",
   "execution_count": 4,
   "metadata": {},
   "outputs": [],
   "source": [
    "def xG_EPL_Scraper(soup):\n",
    "    # Returns a dataframe containing team xg data for all teams in the EPL\n",
    "    \n",
    "    headers = soup.find('div', attrs={'class':'chemp margin-top jTable'}).find('table').find_all('th',attrs={'class':'sort'})\n",
    "    headers_list = []\n",
    "    \n",
    "    for header in headers:\n",
    "        headers_list.append(header.get_text(strip=True))\n",
    "    \n",
    "    body = soup.find('div', attrs={'class':'chemp margin-top jTable'}).table.tbody\n",
    "    all_rows_list = []\n",
    "\n",
    "    for tr in body.find_all('tr'):\n",
    "        row = tr.find_all('td')\n",
    "        current_row = []\n",
    "        for item in row:\n",
    "            current_row.append(item.get_text(strip=True))\n",
    "        all_rows_list.append(current_row)\n",
    "\n",
    "    xg_df = pd.DataFrame(all_rows_list, columns = headers_list)    \n",
    "    \n",
    "    return xg_df"
   ]
  },
  {
   "cell_type": "code",
   "execution_count": 5,
   "metadata": {},
   "outputs": [],
   "source": [
    "def xG_Team_Scraper(soup):\n",
    "    # Returns a dataframe containing a particlar team's players' xg data\n",
    "   \n",
    "    headers = soup.find('div', attrs={'class':'players margin-top jTable'}).find('table').find_all('th',attrs={'class':'sort'})\n",
    "    header_list = []\n",
    "\n",
    "    for header in headers:\n",
    "        header_list.append(header.get_text(strip = True))\n",
    "\n",
    "    header_list = ['№', 'Player','Pos','Apps', 'Min', 'G', 'A', 'Sh90', 'KP90', 'xG', 'xA', 'xG90', 'xA90']\n",
    "    \n",
    "    body = soup.find('div', attrs={'class':'players margin-top jTable'}).find('table').find('tbody')\n",
    "    all_rows_list = []\n",
    "\n",
    "    for tr in body.find_all('tr'):\n",
    "        row = tr.find_all('td')\n",
    "        current_row = []\n",
    "        for item in row:\n",
    "            current_row.append(item.get_text(strip = True))\n",
    "        all_rows_list.append(current_row)\n",
    "    \n",
    "    team_xg = pd.DataFrame(all_rows_list, columns = header_list)\n",
    "    \n",
    "   \n",
    "    return team_xg"
   ]
  },
  {
   "cell_type": "code",
   "execution_count": 6,
   "metadata": {},
   "outputs": [],
   "source": [
    "def get_all_player_xg(teams):\n",
    "    #Returns a dataframe of all player stats in EPL\n",
    "    \n",
    "    df = pd.DataFrame()\n",
    "    \n",
    "    for team in teams:\n",
    "        team_soup = get_team_soup(team)\n",
    "        team_df = xG_Team_Scraper(team_soup)\n",
    "\n",
    "        team_df.insert(1,column = 'Team', value = team)\n",
    "\n",
    "        df = pd.concat([df, team_df], ignore_index=True)\n",
    "\n",
    "        # Use timer to avoid requesting data from understat too frequently\n",
    "        time.sleep(3)\n",
    "            \n",
    "        print(f\"{team}: Done\")\n",
    "    \n",
    "    return df"
   ]
  },
  {
   "cell_type": "code",
   "execution_count": 7,
   "metadata": {},
   "outputs": [],
   "source": [
    "def get_json(file_path):\n",
    "    # Get json file from fanatsy.premierleague\n",
    "    r = requests.get('https://fantasy.premierleague.com/drf/bootstrap')\n",
    "    jsonResponse = r.json()\n",
    "    with open(file_path, 'w') as outfile:\n",
    "        json.dump(jsonResponse, outfile)"
   ]
  },
  {
   "cell_type": "code",
   "execution_count": 8,
   "metadata": {},
   "outputs": [],
   "source": [
    "def get_fixtures_EPL(epl_players):\n",
    "    # Updates the EPL player dataframe with upcoming fixture information\n",
    "    \n",
    "    get_json(r\"C:\\Users\\TinyPoots\\OneDrive\\Python\\FPL\\fpl.json\")\n",
    "    \n",
    "    with open(r\"C:\\Users\\TinyPoots\\OneDrive\\Python\\FPL\\fpl.json\") as json_data:\n",
    "        d = json.load(json_data)\n",
    "    \n",
    "    # normalize json in to flat table\n",
    "    df = json_normalize(d['teams'])\n",
    "    id_df = df[['id','name']]\n",
    "    \n",
    "    # Several of the names on from Fantasy.premierleague are different from the name used on Understat\n",
    "    id_df['name'].replace({'Wolves':'Wolverhampton Wanderers','Newcastle':'Newcastle United','Man City':'Manchester City', \n",
    "                                   'Man Utd':'Manchester United', 'Spurs':'Tottenham'}, inplace = True)\n",
    "    \n",
    "    team_id = dict(zip(list(id_df['id']),list(id_df['name'])))\n",
    "    \n",
    "    df = json_normalize(d['next_event_fixtures'])\n",
    "    fixtures_df = df[['event','team_h','team_a']]\n",
    "    \n",
    "    # Change team names to the ones used in Understat data\n",
    "    fixtures_df['team_a'] = fixtures_df['team_a'].map(team_id)\n",
    "    fixtures_df['team_h'] = fixtures_df['team_h'].map(team_id)\n",
    "    \n",
    "    home_team = list(fixtures_df['team_h'])\n",
    "    away_team = list(fixtures_df['team_a'])\n",
    "    fixture_dict = dict(zip(home_team, away_team))\n",
    "    fixture_dict.update(dict(zip(away_team, home_team)))\n",
    "    \n",
    "    # Add upcoming fixture data to the players dataframe\n",
    "    epl_players['Next Opp'] = epl_players['Team'].map(fixture_dict)\n",
    "    epl_players['Home'] = epl_players['Next Opp'].apply(lambda x: True if (x in away_team) else False)\n",
    "    \n",
    "    return epl_players"
   ]
  },
  {
   "cell_type": "markdown",
   "metadata": {},
   "source": [
    "**Use functions to get team and player data**"
   ]
  },
  {
   "cell_type": "markdown",
   "metadata": {},
   "source": [
    "Get team data"
   ]
  },
  {
   "cell_type": "code",
   "execution_count": null,
   "metadata": {},
   "outputs": [],
   "source": [
    "# Get xG data for every team in the EPL\n",
    "epl_df = xG_EPL_Scraper(get_EPL_soup())\n",
    "# Save for later use\n",
    "epl_df.to_csv('xg_EPL.csv')"
   ]
  },
  {
   "cell_type": "markdown",
   "metadata": {},
   "source": [
    "Get player data (take about 5 minutes)"
   ]
  },
  {
   "cell_type": "code",
   "execution_count": 10,
   "metadata": {
    "scrolled": true
   },
   "outputs": [
    {
     "name": "stdout",
     "output_type": "stream",
     "text": [
      "Liverpool: Done\n",
      "Manchester City: Done\n",
      "Tottenham: Done\n",
      "Arsenal: Done\n",
      "Manchester United: Done\n",
      "Chelsea: Done\n",
      "Wolverhampton Wanderers: Done\n",
      "Watford: Done\n",
      "West Ham: Done\n",
      "Leicester: Done\n",
      "Everton: Done\n",
      "Bournemouth: Done\n",
      "Newcastle United: Done\n",
      "Crystal Palace: Done\n",
      "Brighton: Done\n",
      "Southampton: Done\n",
      "Burnley: Done\n",
      "Cardiff: Done\n",
      "Fulham: Done\n",
      "Huddersfield: Done\n"
     ]
    }
   ],
   "source": [
    "# Get xG data for every player in the EPL\n",
    "team_names = list(epl_df['Team'])\n",
    "player_df = get_all_player_xg(team_names)"
   ]
  },
  {
   "cell_type": "code",
   "execution_count": 11,
   "metadata": {},
   "outputs": [
    {
     "name": "stderr",
     "output_type": "stream",
     "text": [
      "C:\\Users\\TinyPoots\\Anaconda3\\lib\\site-packages\\pandas\\core\\generic.py:5890: SettingWithCopyWarning: \n",
      "A value is trying to be set on a copy of a slice from a DataFrame\n",
      "\n",
      "See the caveats in the documentation: http://pandas.pydata.org/pandas-docs/stable/indexing.html#indexing-view-versus-copy\n",
      "  self._update_inplace(new_data)\n",
      "C:\\Users\\TinyPoots\\Anaconda3\\lib\\site-packages\\ipykernel_launcher.py:23: SettingWithCopyWarning: \n",
      "A value is trying to be set on a copy of a slice from a DataFrame.\n",
      "Try using .loc[row_indexer,col_indexer] = value instead\n",
      "\n",
      "See the caveats in the documentation: http://pandas.pydata.org/pandas-docs/stable/indexing.html#indexing-view-versus-copy\n",
      "C:\\Users\\TinyPoots\\Anaconda3\\lib\\site-packages\\ipykernel_launcher.py:24: SettingWithCopyWarning: \n",
      "A value is trying to be set on a copy of a slice from a DataFrame.\n",
      "Try using .loc[row_indexer,col_indexer] = value instead\n",
      "\n",
      "See the caveats in the documentation: http://pandas.pydata.org/pandas-docs/stable/indexing.html#indexing-view-versus-copy\n"
     ]
    }
   ],
   "source": [
    "# Add upcoming fixture information\n",
    "players_df_fix = get_fixtures_EPL(player_df)"
   ]
  },
  {
   "cell_type": "code",
   "execution_count": 12,
   "metadata": {},
   "outputs": [],
   "source": [
    "players_df_fix.to_csv('xg_Players.csv')"
   ]
  }
 ],
 "metadata": {
  "kernelspec": {
   "display_name": "Python 3",
   "language": "python",
   "name": "python3"
  },
  "language_info": {
   "codemirror_mode": {
    "name": "ipython",
    "version": 3
   },
   "file_extension": ".py",
   "mimetype": "text/x-python",
   "name": "python",
   "nbconvert_exporter": "python",
   "pygments_lexer": "ipython3",
   "version": "3.7.1"
  }
 },
 "nbformat": 4,
 "nbformat_minor": 2
}
